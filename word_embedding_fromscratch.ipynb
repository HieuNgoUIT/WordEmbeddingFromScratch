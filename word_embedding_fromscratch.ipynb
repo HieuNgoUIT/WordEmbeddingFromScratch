{
 "cells": [
  {
   "cell_type": "code",
   "execution_count": 179,
   "metadata": {},
   "outputs": [],
   "source": [
    "import numpy as np\n",
    "import re\n",
    "import random"
   ]
  },
  {
   "cell_type": "code",
   "execution_count": 180,
   "metadata": {},
   "outputs": [],
   "source": [
    "random.seed(30)"
   ]
  },
  {
   "cell_type": "code",
   "execution_count": 181,
   "metadata": {},
   "outputs": [],
   "source": [
    "def tokenize(text):\n",
    "    # obtains tokens with a least 1 alphabet\n",
    "    pattern = re.compile(r'[A-Za-z]+[\\w^\\']*|[\\w^\\']*[A-Za-z]+[\\w^\\']*')\n",
    "    return pattern.findall(text.lower())"
   ]
  },
  {
   "cell_type": "code",
   "execution_count": 182,
   "metadata": {},
   "outputs": [],
   "source": [
    "def mapping(tokens):\n",
    "    word_to_id = dict()\n",
    "    id_to_word = dict()\n",
    "    for i,word in enumerate(set(tokens)):\n",
    "        word_to_id[word] = i\n",
    "        id_to_word[i] = word\n",
    "    return word_to_id, id_to_word"
   ]
  },
  {
   "cell_type": "code",
   "execution_count": 183,
   "metadata": {},
   "outputs": [
    {
     "name": "stdout",
     "output_type": "stream",
     "text": [
      "['after', 'the', 'deduction', 'of', 'the', 'costs', 'of', 'investing', 'beating', 'the', 'stock', 'market', 'is', 'a', \"loser's\", 'game']\n"
     ]
    }
   ],
   "source": [
    "doc = \"After the deduction of the costs of investing, \" \\\n",
    "      \"beating the stock market is a loser's game.\"\n",
    "tokens = tokenize(doc)\n",
    "print(tokens)"
   ]
  },
  {
   "cell_type": "code",
   "execution_count": 184,
   "metadata": {},
   "outputs": [
    {
     "name": "stdout",
     "output_type": "stream",
     "text": [
      "{'the', 'market', 'beating', 'deduction', 'after', 'stock', 'a', \"loser's\", 'is', 'investing', 'game', 'costs', 'of'}\n",
      "the\n"
     ]
    }
   ],
   "source": [
    "word_to_id, id_to_word = mapping(tokens)\n",
    "print(set(tokens))\n",
    "print(id_to_word[0])"
   ]
  },
  {
   "cell_type": "code",
   "execution_count": 185,
   "metadata": {},
   "outputs": [],
   "source": [
    "#under stand code\n",
    "# def generate_training_date(tokens, id_to_word, window_size):\n",
    "#     L = len(tokens)\n",
    "#     X, Y = [], []\n",
    "#     for i in range(L):\n",
    "#         index_before_after = list(range(max(0,i-window_size,i))) + list(range(i+1, min(i+window_size+1,L)))\n",
    "#         for j in index_before_after:\n",
    "#             X.append(id_to_word[i])\n",
    "#             Y.append(id_to_word[j])\n",
    "#     return X,Y"
   ]
  },
  {
   "cell_type": "code",
   "execution_count": 186,
   "metadata": {},
   "outputs": [],
   "source": [
    "#X,Y = generate_training_date(tokens, id_to_word, 3)"
   ]
  },
  {
   "cell_type": "code",
   "execution_count": 187,
   "metadata": {},
   "outputs": [],
   "source": [
    "#print(X[:10])\n",
    "#print(\"------------------------------------------------------\")\n",
    "#print(Y[:10])"
   ]
  },
  {
   "cell_type": "code",
   "execution_count": 188,
   "metadata": {},
   "outputs": [],
   "source": [
    "#real code\n",
    "def generate_training_date(tokens, word_to_id, window_size):\n",
    "    L = len(tokens)\n",
    "    X, Y = [], []\n",
    "    for i in range(L):\n",
    "        index_before_after = list(range(max(0, i - window_size), i)) + \\\n",
    "                             list(range(i + 1, min(i + window_size + 1,L)))\n",
    "        #print(index_before_after)\n",
    "        for j in index_before_after:\n",
    "            X.append(word_to_id[tokens[i]])\n",
    "            Y.append(word_to_id[tokens[j]])\n",
    "    X = np.array(X)\n",
    "    X = np.expand_dims(X, axis=0)\n",
    "    Y = np.array(Y)\n",
    "    Y = np.expand_dims(Y, axis=0)       \n",
    "    return X,Y"
   ]
  },
  {
   "cell_type": "code",
   "execution_count": 189,
   "metadata": {},
   "outputs": [
    {
     "name": "stdout",
     "output_type": "stream",
     "text": [
      "(1, 84)\n",
      "(1, 84)\n"
     ]
    }
   ],
   "source": [
    "X,Y = generate_training_date(tokens, word_to_id, 3)\n",
    "print(X.shape)\n",
    "print(Y.shape)"
   ]
  },
  {
   "cell_type": "code",
   "execution_count": 190,
   "metadata": {},
   "outputs": [
    {
     "name": "stdout",
     "output_type": "stream",
     "text": [
      "(1, 84)\n",
      "(13, 84)\n",
      "[0. 0. 0. 1. 0. 0. 0. 0. 0. 0. 0. 0. 0.]\n"
     ]
    }
   ],
   "source": [
    "vocab_size = len(id_to_word)\n",
    "m = Y.shape[1]\n",
    "Y_one_hot = np.zeros((vocab_size,m))\n",
    "Y_one_hot[Y.flatten(), np.arange(m)] = 1\n",
    "#Y_one_hot[84 cua y flatten, 0 -> 84]\n",
    "print(Y.shape)\n",
    "print(Y_one_hot.shape)\n",
    "print(Y_one_hot[:,1])"
   ]
  },
  {
   "cell_type": "code",
   "execution_count": 206,
   "metadata": {},
   "outputs": [],
   "source": [
    "def initialize_wrd_ebd(vocab_size, embed_size):\n",
    "    random.seed(30)\n",
    "    return np.random.randn(vocab_size, embed_size) * 0.01\n",
    "\n",
    "def initialize_dense(input_size, output_size):\n",
    "    random.seed(30)\n",
    "    return np.random.randn(input_size,output_size) * 0.01\n",
    "\n",
    "def initialize_parameters(vocab_size, embed_size):\n",
    "    embedded_layer = initialize_wrd_ebd(vocab_size, embed_size)\n",
    "    dense_layer = initialize_dense(vocab_size, embed_size)\n",
    "    \n",
    "    parameters = {}\n",
    "    parameters['emb'] = embedded_layer\n",
    "    parameters['W'] = dense_layer\n",
    "    return parameters\n",
    "    "
   ]
  },
  {
   "cell_type": "code",
   "execution_count": 207,
   "metadata": {},
   "outputs": [],
   "source": [
    "def input_to_word_vecs(X, parameters):\n",
    "    m = X.shape[1]\n",
    "    embeded_matrix = parameters['emb']\n",
    "    # X shape (1, 84)\n",
    "    # embeded_matrix (13, 50)\n",
    "    word_vectors = embeded_matrix[X.flatten(),:].T\n",
    "    return word_vectors\n",
    "    #print(word_vectors.shape) 50 84"
   ]
  },
  {
   "cell_type": "code",
   "execution_count": 208,
   "metadata": {},
   "outputs": [],
   "source": [
    "#parameters = initialize_parameter(vocab_size, 50)\n",
    "#word_vectors = input_to_word_vecs(X,parameters)"
   ]
  },
  {
   "cell_type": "code",
   "execution_count": 209,
   "metadata": {},
   "outputs": [],
   "source": [
    "def linear_dense(word_vectors, parameters):\n",
    "    W = parameters['W']\n",
    "    #print(W.shape) 13 50\n",
    "    Z = np.dot(W, word_vectors)\n",
    "    #print(Z.shape) 13 84\n",
    "    return W, Z"
   ]
  },
  {
   "cell_type": "code",
   "execution_count": 210,
   "metadata": {},
   "outputs": [],
   "source": [
    "#linear_dense(word_vectors, parameters)"
   ]
  },
  {
   "cell_type": "code",
   "execution_count": 211,
   "metadata": {},
   "outputs": [],
   "source": [
    "def softmax(Z):\n",
    "    \"\"\"\n",
    "    Z: output out of the dense layer. shape: (vocab_size, m)\n",
    "    \"\"\"\n",
    "    softmax_out = np.divide(np.exp(Z), np.sum(np.exp(Z), axis=0, keepdims=True) + 0.001)\n",
    "    assert(softmax_out.shape == Z.shape)\n",
    "\n",
    "    return softmax_out"
   ]
  },
  {
   "cell_type": "code",
   "execution_count": 212,
   "metadata": {},
   "outputs": [],
   "source": [
    "def foward_prop(X, parameters):\n",
    "    word_vectors = input_to_word_vecs(X, parameters)\n",
    "    W, Z = linear_dense(word_vectors, parameters)\n",
    "    softmax_out = softmax(Z)\n",
    "    \n",
    "    caches = {}\n",
    "    caches['X'] = X\n",
    "    caches['word_vec'] = word_vectors\n",
    "    caches['W'] = W\n",
    "    caches['Z'] = Z\n",
    "    return softmax_out, caches"
   ]
  },
  {
   "cell_type": "code",
   "execution_count": 221,
   "metadata": {},
   "outputs": [],
   "source": [
    "paramaters = initialize_parameters(vocab_size, 50)\n",
    "softmax_out, caches = foward_prop(X, paramaters)"
   ]
  },
  {
   "cell_type": "code",
   "execution_count": null,
   "metadata": {},
   "outputs": [],
   "source": []
  },
  {
   "cell_type": "code",
   "execution_count": null,
   "metadata": {},
   "outputs": [],
   "source": []
  },
  {
   "cell_type": "code",
   "execution_count": null,
   "metadata": {},
   "outputs": [],
   "source": []
  },
  {
   "cell_type": "code",
   "execution_count": null,
   "metadata": {},
   "outputs": [],
   "source": []
  },
  {
   "cell_type": "code",
   "execution_count": null,
   "metadata": {},
   "outputs": [],
   "source": []
  }
 ],
 "metadata": {
  "kernelspec": {
   "display_name": "Python 3",
   "language": "python",
   "name": "python3"
  },
  "language_info": {
   "codemirror_mode": {
    "name": "ipython",
    "version": 3
   },
   "file_extension": ".py",
   "mimetype": "text/x-python",
   "name": "python",
   "nbconvert_exporter": "python",
   "pygments_lexer": "ipython3",
   "version": "3.7.6"
  }
 },
 "nbformat": 4,
 "nbformat_minor": 4
}
